{
 "cells": [
  {
   "cell_type": "markdown",
   "id": "b09d59ce",
   "metadata": {},
   "source": [
    "## Ejercicio 1\n"
   ]
  },
  {
   "cell_type": "markdown",
   "id": "68dc9559",
   "metadata": {},
   "source": [
    "### Importamos las librerias necesarias\n"
   ]
  },
  {
   "cell_type": "code",
   "execution_count": 351,
   "id": "babd196a",
   "metadata": {},
   "outputs": [],
   "source": [
    "import numpy as np\n",
    "import pandas as pd\n"
   ]
  },
  {
   "cell_type": "markdown",
   "id": "ff17e7e8",
   "metadata": {},
   "source": [
    "<p>Todas las hojas de calculo se encuentran en la carpeta <em>data</em>, desde ahi vamos a importar todos los archivos que necesitamos.</p>\n",
    "\n",
    "<p>Como primer paso es necesario leer los archivos a transformar en este caso son <em>principal.xlsx</em> y <em>secundario.xlsx</em></p>\n"
   ]
  },
  {
   "cell_type": "code",
   "execution_count": 352,
   "id": "c53b1896",
   "metadata": {},
   "outputs": [],
   "source": [
    "df_principal = pd.read_excel(r\"data/principal.xlsx\")\n",
    "df_secundario = pd.read_excel(r\"data/secundario.xlsx\")\n",
    "df_tipo_cambio = pd.read_excel(r\"data/tipocambio.xlsx\")\n"
   ]
  },
  {
   "cell_type": "markdown",
   "id": "be14e752",
   "metadata": {},
   "source": [
    "## Archivo Principal.xlsx\n"
   ]
  },
  {
   "cell_type": "markdown",
   "id": "eb5e8d99",
   "metadata": {},
   "source": [
    "### Eliminar columnas Codigo y Pases de principal.xlsx\n"
   ]
  },
  {
   "cell_type": "code",
   "execution_count": 353,
   "id": "487fbad0",
   "metadata": {},
   "outputs": [],
   "source": [
    "df_principal.drop(columns=[\"Codigo\", \"Pases\"], axis=1, inplace=True)\n",
    "# print(df_principal.head())\n"
   ]
  },
  {
   "cell_type": "markdown",
   "id": "800672ed",
   "metadata": {},
   "source": [
    "### Dejar unicamente el nombre de la pelicula en la columna NombreP\n"
   ]
  },
  {
   "cell_type": "code",
   "execution_count": 354,
   "id": "fab69ce9",
   "metadata": {},
   "outputs": [],
   "source": [
    "\"\"\"\n",
    "Los datos de la columna NombreP tienen el formato:\n",
    "    Nombre (Caractetisticas)\n",
    "para obtener el nombre se puede utilizar la funcion split para separar el string\n",
    "el primer valor del array es el que nos interesa\n",
    "\"\"\"\n",
    "\n",
    "\n",
    "def get_movie_name(row):\n",
    "    return row.split(\"(\")[0]\n"
   ]
  },
  {
   "cell_type": "markdown",
   "id": "5dc87e2d",
   "metadata": {},
   "source": [
    "### Agupar las peliculas con la sumatoria de EntradasTotales, Dinero y Funciones\n"
   ]
  },
  {
   "cell_type": "code",
   "execution_count": 355,
   "id": "0f1f6229",
   "metadata": {},
   "outputs": [],
   "source": [
    "# Guardamos en una lista la columna NombreP\n",
    "lista_nombres = df_principal[\"NombreP\"].tolist()\n",
    "\n",
    "# A la columna NombreP le aplicamos la funcion get_movie_name para solo tener el nombre de la pelicula\n",
    "df_principal[\"NombreP\"] = df_principal[\"NombreP\"].map(get_movie_name)\n",
    "\n",
    "\n",
    "# Nuevo dataframe con los nuevos datos\n",
    "df_principal_nuevo = pd.DataFrame()\n",
    "\n",
    "# copia las columnas necesarias\n",
    "df_principal_nuevo[\"Teatro\"] = df_principal[\"Teatro\"]\n",
    "df_principal_nuevo[\"\"] = df_principal[\"NombreP\"]\n",
    "df_principal_nuevo[\"Sala\"] = df_principal[\"Sala\"]\n",
    "df_principal_nuevo[\"Dia\"] = df_principal[\"Dia\"]\n",
    "\n",
    "# Elimina elementos duplicados\n",
    "df_principal_nuevo.drop_duplicates(\n",
    "    subset=[\"Teatro\", \"\", \"Sala\", \"Dia\"], keep=\"first\", inplace=True\n",
    ")\n",
    "\n",
    "\"\"\"\n",
    "Las columnas Entradas, Dinero y Funciones es la sumatoria de todas las funciones que cumplen estas caracteristicas:\n",
    "1.- El dia es el mismo\n",
    "2.- El teatro es el mismo\n",
    "3.- La sala es la misma\n",
    "4.- NombreP tiene los mismos atributos \n",
    "\"\"\"\n",
    "\n",
    "df_principal_nuevo[\"Entradas\"] = df_principal.groupby(\n",
    "    [\"Teatro\", \"NombreP\", \"Sala\", \"Dia\"]\n",
    ")[\"EntradasTotales\"].transform(\"sum\")\n",
    "df_principal_nuevo[\"Dinero\"] = df_principal.groupby(\n",
    "    [\"Teatro\", \"NombreP\", \"Sala\", \"Dia\"]\n",
    ")[\"Dinero\"].transform(\"sum\")\n",
    "df_principal_nuevo[\"Funciones\"] = df_principal.groupby(\n",
    "    [\"Teatro\", \"NombreP\", \"Sala\", \"Dia\"]\n",
    ")[\"funciones\"].transform(\"sum\")\n",
    "df_principal_nuevo.to_csv(r\"data/principal_clean.csv\", index=False)\n"
   ]
  },
  {
   "cell_type": "markdown",
   "id": "71bb2ad7",
   "metadata": {},
   "source": [
    "## Archivo Secundario.xlsx\n"
   ]
  },
  {
   "cell_type": "markdown",
   "id": "9075dfc2",
   "metadata": {},
   "source": [
    "### Quitar las primeras 4 filas y la primera columna\n"
   ]
  },
  {
   "cell_type": "code",
   "execution_count": 356,
   "id": "ace8ff18",
   "metadata": {},
   "outputs": [],
   "source": [
    "df_secundario.drop(df_secundario.index[range(4)], axis=0, inplace=True)\n",
    "df_secundario.drop(df_secundario.columns[[0]], axis=1, inplace=True)\n",
    "\n",
    "# Renombramos las columnas\n",
    "df_secundario.columns = [\n",
    "    \"Date\",\n",
    "    \"Cinema\",\n",
    "    \"Screen\",\n",
    "    \"Film\",\n",
    "    \"Admits\",\n",
    "    \"Cin Box Office Gross\",\n",
    "]\n"
   ]
  },
  {
   "cell_type": "markdown",
   "id": "3db10f07",
   "metadata": {},
   "source": [
    "### Transforma las fechas con el mismo formato que en el archivo principal.xlsx\n"
   ]
  },
  {
   "cell_type": "code",
   "execution_count": 357,
   "id": "5ecf7c43",
   "metadata": {},
   "outputs": [],
   "source": [
    "\"\"\"\n",
    "En el archivo principal.xlsx las fechas tienen el formato dd/mm/aaaa\n",
    "para convertirlas a un formato de fecha se puede utilizar la funcion strptime\n",
    "\"\"\"\n",
    "\n",
    "# Primero convertimos la columan Date a una columna de tipo datetime\n",
    "\n",
    "\n",
    "def convert_date(cell):\n",
    "    if cell == \"Total\" or pd.isnull(cell):\n",
    "        return cell\n",
    "    new_date = pd.to_datetime(cell, errors=\"coerce\")\n",
    "    return new_date.strftime(\"%Y-%m-%d\")\n",
    "\n",
    "\n",
    "# Aplicamos la funcion convert_date a la columna Date\n",
    "df_secundario[\"Date\"] = df_secundario[\"Date\"].map(convert_date)\n"
   ]
  },
  {
   "cell_type": "markdown",
   "id": "99f64fa3",
   "metadata": {},
   "source": [
    "### Todas las filas deben tener una fecha, a que sala pertenece la funcion e informacion de screen\n"
   ]
  },
  {
   "cell_type": "code",
   "execution_count": 358,
   "id": "c0feb663",
   "metadata": {},
   "outputs": [],
   "source": [
    "df_secundario[\"Date\"] = df_secundario[\"Date\"].ffill()\n",
    "df_secundario[\"Cinema\"] = df_secundario[\"Cinema\"].ffill()\n",
    "df_secundario[\"Screen\"] = df_secundario[\"Screen\"].ffill()\n"
   ]
  },
  {
   "cell_type": "markdown",
   "id": "266b3c7e",
   "metadata": {},
   "source": [
    "### Eliminar filas que contenga totales\n"
   ]
  },
  {
   "cell_type": "code",
   "execution_count": 359,
   "id": "6592ea9e",
   "metadata": {},
   "outputs": [],
   "source": [
    "\"\"\"\n",
    "Las unicas columnas que contiene totales son Screen y Film\n",
    "entonces solo se debe eliminar filas que en sus columnas Screen o Film tengan como valor Total\n",
    "\"\"\"\n",
    "\n",
    "df_secundario.drop(\n",
    "    df_secundario[df_secundario[\"Screen\"] == \"Total\"].index, axis=0, inplace=True\n",
    ")\n",
    "df_secundario.drop(\n",
    "    df_secundario[df_secundario[\"Film\"] == \"Total\"].index, axis=0, inplace=True\n",
    ")\n",
    "\n",
    "\n",
    "def split_cinema(cell):\n",
    "    return cell.split(\" \")[1]\n",
    "\n",
    "\n",
    "# A la columna Cinema solo dejamos el numero\n",
    "df_secundario[\"Cinema\"] = df_secundario[\"Cinema\"].map(split_cinema)\n"
   ]
  },
  {
   "cell_type": "markdown",
   "id": "c92797f3",
   "metadata": {},
   "source": [
    "### Separar los datos de Date, Cinema, Screen y Film y eliminar atributos de la columna Film\n"
   ]
  },
  {
   "cell_type": "code",
   "execution_count": 360,
   "id": "1509d10f",
   "metadata": {},
   "outputs": [],
   "source": [
    "# nuevo dataframe para los datos limpios\n",
    "df_secundario_nuevo = pd.DataFrame()\n",
    "df_secundario_nuevo[\"Date\"] = df_secundario[\"Date\"]\n",
    "df_secundario_nuevo[\"\"] = df_secundario[\"Cinema\"]\n",
    "df_secundario_nuevo[\"Screen\"] = df_secundario[\"Screen\"]\n",
    "\n",
    "\"\"\"\n",
    "Anteriormente se hizo una funcion para eliminar los atributos de las peliculas\n",
    "para este caso solo vamos a reutilizar la funcion get_movie_name\n",
    "\"\"\"\n",
    "\n",
    "df_secundario[\"Film\"] = df_secundario[\"Film\"].map(get_movie_name)\n",
    "df_secundario_nuevo[\"Film\"] = df_secundario[\"Film\"]\n"
   ]
  },
  {
   "cell_type": "markdown",
   "id": "c2dcca84",
   "metadata": {},
   "source": [
    "### Eliminar datos duplicados y sumar las entradas totales de las funciones\n"
   ]
  },
  {
   "cell_type": "code",
   "execution_count": 361,
   "id": "07ebbe9d",
   "metadata": {},
   "outputs": [],
   "source": [
    "df_secundario.drop_duplicates(\n",
    "    subset=[\"Date\", \"Cinema\", \"Screen\", \"Film\", \"Admits\"], keep=\"first\", inplace=True\n",
    ")\n",
    "\n",
    "df_secundario_nuevo.drop_duplicates(\n",
    "    subset=[\"Date\", \"\", \"Screen\", \"Film\"], keep=\"first\", inplace=True\n",
    ")\n",
    "\n",
    "# Agrupamos las columnas Admits, Cin Box Office Gross\n",
    "df_secundario_nuevo[\"Admits\"] = df_secundario.groupby(\n",
    "    [\"Date\", \"Cinema\", \"Screen\", \"Film\"]\n",
    ")[\"Admits\"].transform(\"sum\")\n",
    "df_secundario_nuevo[\"Cin Box Office Gross\"] = df_secundario.groupby(\n",
    "    [\"Date\", \"Cinema\", \"Screen\", \"Film\"]\n",
    ")[\"Cin Box Office Gross\"].transform(\"sum\")\n",
    "df_secundario_nuevo.to_csv(r\"data/secundario_clean.csv\", index=False)\n"
   ]
  },
  {
   "cell_type": "markdown",
   "id": "401c6fea",
   "metadata": {},
   "source": [
    "### Agrupacion de datos\n"
   ]
  },
  {
   "cell_type": "code",
   "execution_count": 362,
   "id": "38af96a1",
   "metadata": {},
   "outputs": [],
   "source": [
    "# Cambio de tipo de datos de las columnas\n",
    "\n",
    "df_principal_nuevo[\"Teatro\"] = pd.to_numeric(\n",
    "    df_principal_nuevo[\"Teatro\"], downcast=\"integer\"\n",
    ")\n",
    "df_principal_nuevo[\"Sala\"] = pd.to_numeric(\n",
    "    df_principal_nuevo[\"Sala\"], downcast=\"integer\"\n",
    ")\n",
    "df_principal_nuevo[\"Dia\"] = pd.to_datetime(df_principal_nuevo[\"Dia\"], errors=\"coerce\")\n",
    "\n",
    "df_secundario_nuevo[\"Date\"] = pd.to_datetime(\n",
    "    df_secundario_nuevo[\"Date\"], errors=\"coerce\"\n",
    ")\n",
    "df_secundario_nuevo[\"\"] = pd.to_numeric(df_secundario_nuevo[\"\"], downcast=\"integer\")\n",
    "df_secundario_nuevo[\"Screen\"] = pd.to_numeric(\n",
    "    df_secundario_nuevo[\"Screen\"], downcast=\"integer\"\n",
    ")\n",
    "\n",
    "df_union = pd.merge(\n",
    "    df_principal_nuevo,\n",
    "    df_secundario_nuevo,\n",
    "    left_on=[\"Teatro\", \"\", \"Sala\", \"Dia\"],\n",
    "    right_on=[\"\", \"Film\", \"Screen\", \"Date\"],\n",
    "    how=\"left\",\n",
    "    copy=False,\n",
    ")\n",
    "\n",
    "df_union.rename(columns={\"_x\": \"\"}, inplace=True)\n",
    "\n",
    "# elimina columnas no necesarias que se crearon en el merge\n",
    "df_union.drop([\"_y\", \"Screen\", \"Film\", \"Date\"], axis=1, inplace=True)\n",
    "df_union.to_csv(r\"data/union.csv\", index=False)\n"
   ]
  },
  {
   "cell_type": "markdown",
   "id": "0e13a587",
   "metadata": {},
   "source": [
    "### Restas\n"
   ]
  },
  {
   "cell_type": "code",
   "execution_count": 363,
   "id": "facc2342",
   "metadata": {},
   "outputs": [],
   "source": [
    "# Primero creamos el dataframe final\n",
    "df_final = pd.DataFrame()\n",
    "\n",
    "# copiamos las columnas Teatro, \"\", Sala, Dia de df_union\n",
    "df_final[\"Teatro\"] = df_union[\"Teatro\"]\n",
    "df_final[\"\"] = df_union[\"\"]\n",
    "df_final[\"Sala\"] = df_union[\"Sala\"]\n",
    "df_final[\"Dia\"] = df_union[\"Dia\"]\n",
    "\n",
    "# Restamos al valor de la columna Entradas la columna Admits\n",
    "df_final[\"EntradasRestadas\"] = df_union[\"Entradas\"] - df_union[\"Admits\"]\n",
    "\n",
    "# Copiamos la columna Admits de df_union\n",
    "df_final[\"Admits\"] = df_union[\"Admits\"]\n",
    "\n",
    "# Restamos al valor de la columna Dinero la columna Cin Box Office Gross\n",
    "df_final[\"DineroRestado\"] = df_union[\"Dinero\"] - df_union[\"Cin Box Office Gross\"]\n",
    "\n",
    "# Copiamos las columnas Cin Box Office Gross y Funciones de df_union\n",
    "df_final[\"Cin Box Office Gross\"] = df_union[\"Cin Box Office Gross\"]\n",
    "df_final[\"Funciones\"] = df_union[\"Funciones\"]\n",
    "\n",
    "df_final.to_csv(r\"data/final.csv\", index=False)\n"
   ]
  },
  {
   "cell_type": "markdown",
   "id": "c6a69ad4",
   "metadata": {},
   "source": [
    "### Tipo de cambio\n"
   ]
  },
  {
   "cell_type": "code",
   "execution_count": 364,
   "id": "34e42ebd",
   "metadata": {},
   "outputs": [],
   "source": [
    "# cambia el nombre de la columna Cinema de df_tipo_cambio a Teatro\n",
    "df_tipo_cambio.rename(columns={\"Cinema\": \"Teatro\"}, inplace=True)\n",
    "\n",
    "\n",
    "df_a_cambiar = pd.DataFrame()\n",
    "df_a_cambiar = df_final.merge(df_tipo_cambio, on=[\"Teatro\"])\n",
    "\n",
    "# dividimos df_a_cambiar[\"DineroRestado\"] entre df_a_cambiar[\"ExgRate\"] redondeado a 2 decimales\n",
    "df_a_cambiar[\"DineroRestado Cambio\"] = (\n",
    "    df_a_cambiar[\"DineroRestado\"] / df_a_cambiar[\"ExgRate\"]\n",
    ")\n",
    "df_a_cambiar[\"Cin Gross Cambio\"] = (\n",
    "    df_a_cambiar[\"Cin Box Office Gross\"] / df_a_cambiar[\"ExgRate\"]\n",
    ")\n",
    "\n",
    "df_a_cambiar[\"Cin Gross Cambio\"] = pd.to_numeric(\n",
    "    df_a_cambiar[\"Cin Gross Cambio\"], downcast=\"float\"\n",
    ")\n",
    "\n",
    "df_a_cambiar[\"DineroRestado Cambio\"] = pd.to_numeric(\n",
    "    df_a_cambiar[\"DineroRestado Cambio\"], downcast=\"float\"\n",
    ")\n",
    "\n",
    "df_a_cambiar[\"DineroRestado Cambio\"] = df_a_cambiar[\"DineroRestado Cambio\"].round(2)\n",
    "df_a_cambiar[\"Cin Gross Cambio\"] = df_a_cambiar[\"Cin Gross Cambio\"].round(2)\n",
    "\n",
    "# Cambiamos el formato de df_a_cambiar[\"Dia\"] a dd/mm/yyyy\n",
    "df_a_cambiar[\"Dia\"] = df_a_cambiar[\"Dia\"].dt.strftime(\"%d/%m/%Y\")\n",
    "\n",
    "# Quitamos las columnas Dinerorestado y Cin Box Office Gross\n",
    "df_a_cambiar.drop(\n",
    "    [\"DineroRestado\", \"Cin Box Office Gross\", \"ExgRate\"], axis=1, inplace=True\n",
    ")\n",
    "\n",
    "# Quitamos el nombre de columna\n",
    "df_a_cambiar.rename(columns={\"EntradasRestadas\": \"\"}, inplace=True)\n",
    "df_a_cambiar.rename(columns={\"Admits\": \"\"}, inplace=True)\n",
    "df_a_cambiar.rename(columns={\"DineroRestado Cambio\": \"\"}, inplace=True)\n",
    "df_a_cambiar.rename(columns={\"Cin Gross Cambio\": \"\"}, inplace=True)\n",
    "df_a_cambiar.rename(columns={\"Funciones\": \"\"}, inplace=True)\n",
    "\n",
    "# Exportamos a excel el dataframe df_a_cambiar\n",
    "df_a_cambiar.to_excel(r\"data/final_ejercicio_1.xlsx\", index=False, header=True)\n"
   ]
  }
 ],
 "metadata": {
  "interpreter": {
   "hash": "00b6a5b763db8cf62d2c3eeb2ac0c693912a1a51809bf7e9797bb9c1f2841c8c"
  },
  "kernelspec": {
   "display_name": "Python 3.8.13 ('cine')",
   "language": "python",
   "name": "python3"
  },
  "language_info": {
   "codemirror_mode": {
    "name": "ipython",
    "version": 3
   },
   "file_extension": ".py",
   "mimetype": "text/x-python",
   "name": "python",
   "nbconvert_exporter": "python",
   "pygments_lexer": "ipython3",
   "version": "3.8.13"
  }
 },
 "nbformat": 4,
 "nbformat_minor": 5
}
