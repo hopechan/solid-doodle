{
 "cells": [
  {
   "cell_type": "code",
   "execution_count": 1,
   "metadata": {},
   "outputs": [
    {
     "name": "stdout",
     "output_type": "stream",
     "text": [
      "uwu\n"
     ]
    }
   ],
   "source": [
    "print('uwu')"
   ]
  }
 ],
 "metadata": {
  "interpreter": {
   "hash": "00b6a5b763db8cf62d2c3eeb2ac0c693912a1a51809bf7e9797bb9c1f2841c8c"
  },
  "kernelspec": {
   "display_name": "Python 3.8.13 ('cine')",
   "language": "python",
   "name": "python3"
  },
  "language_info": {
   "codemirror_mode": {
    "name": "ipython",
    "version": 3
   },
   "file_extension": ".py",
   "mimetype": "text/x-python",
   "name": "python",
   "nbconvert_exporter": "python",
   "pygments_lexer": "ipython3",
   "version": "3.8.13"
  }
 },
 "nbformat": 4,
 "nbformat_minor": 5
}
