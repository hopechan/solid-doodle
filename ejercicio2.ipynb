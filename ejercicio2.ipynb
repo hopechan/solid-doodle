{
 "cells": [
  {
   "cell_type": "markdown",
   "metadata": {},
   "source": [
    "## Ejercicio 2\n"
   ]
  },
  {
   "cell_type": "markdown",
   "metadata": {},
   "source": [
    "### Importamos librerias necesarias\n"
   ]
  },
  {
   "cell_type": "code",
   "execution_count": 193,
   "metadata": {},
   "outputs": [],
   "source": [
    "import pandas as pd\n"
   ]
  },
  {
   "cell_type": "markdown",
   "metadata": {},
   "source": [
    "### Cargamos los archivos de excel, estos se encuentran en data/ejercicio2\n"
   ]
  },
  {
   "cell_type": "code",
   "execution_count": 194,
   "metadata": {},
   "outputs": [],
   "source": [
    "df_ejercicio2 = pd.read_excel(r\"data/ejercicio2/segundoejercicio.xlsx\")\n",
    "df_butacas = pd.read_excel(r\"data/ejercicio2/butacas.xlsx\")\n"
   ]
  },
  {
   "cell_type": "markdown",
   "metadata": {},
   "source": [
    "### Archivo segundoejercicio.xlsx\n"
   ]
  },
  {
   "cell_type": "code",
   "execution_count": 195,
   "metadata": {},
   "outputs": [],
   "source": [
    "# Eliminamos columnas y filas no neceserias\n",
    "df_ejercicio2.drop(df_ejercicio2.index[range(6)], axis=0, inplace=True)\n",
    "\n",
    "# Elimina columnas que no sean necesarias\n",
    "df_ejercicio2.drop(df_ejercicio2.columns[[3, 4, 5, 8]], axis=1, inplace=True)\n",
    "\n",
    "\n",
    "# Renombramos columnas\n",
    "df_ejercicio2.columns = [\"Cinema\", \"Screen\", \"Film\", \"Number of Sessions\", \"Admits\"]\n"
   ]
  },
  {
   "cell_type": "markdown",
   "metadata": {},
   "source": [
    "### Limpieza de datos\n"
   ]
  },
  {
   "cell_type": "code",
   "execution_count": 196,
   "metadata": {},
   "outputs": [],
   "source": [
    "def split_cell(cell, separador, posicion):\n",
    "    \"\"\"\n",
    "    Funcion que separa un string segun el separador\n",
    "    y devuelve la posicion indicada\n",
    "    \"\"\"\n",
    "    return cell.split(separador)[posicion]\n",
    "\n",
    "\n",
    "# Elimina filas que contengan el valor Total\n",
    "df_ejercicio2.drop(df_ejercicio2[df_ejercicio2[\"Film\"] == \"Total\"].index, inplace=True)\n",
    "df_ejercicio2.drop(\n",
    "    df_ejercicio2[df_ejercicio2[\"Screen\"] == \"Total\"].index, inplace=True\n",
    ")\n",
    "df_ejercicio2.drop(\n",
    "    df_ejercicio2[df_ejercicio2[\"Cinema\"] == \"Total\"].index, inplace=True\n",
    ")\n",
    "\n",
    "df_ejercicio2 = df_ejercicio2.iloc[:-1]\n",
    "\n",
    "\n",
    "# Llenamos celdas vacias con el valor de la celda anterior\n",
    "df_ejercicio2.fillna(method=\"ffill\", inplace=True)\n",
    "\n",
    "# A las columnas cinema y Film le aplicamos la funcion split_cell\n",
    "df_ejercicio2[\"Cinema\"] = df_ejercicio2[\"Cinema\"].apply(split_cell, args=(\" \", 1))\n",
    "df_ejercicio2[\"Film\"] = df_ejercicio2[\"Film\"].apply(split_cell, args=(\" (\", 0))\n",
    "\n",
    "# Nuevo dataframe para los datos limpios\n",
    "df_ejercicio2_filtrado = pd.DataFrame()\n",
    "df_ejercicio2_filtrado[\"Cinema\"] = df_ejercicio2[\"Cinema\"]\n",
    "df_ejercicio2_filtrado[\"Screen\"] = df_ejercicio2[\"Screen\"]\n",
    "df_ejercicio2_filtrado[\"Film\"] = df_ejercicio2[\"Film\"]\n",
    "\n",
    "# Eliminamos duplicados\n",
    "df_ejercicio2_filtrado.drop_duplicates(inplace=True)\n",
    "\n",
    "# Realizamos una sumatoria con las columnas Number of session y Admits\n",
    "df_ejercicio2_filtrado[\"Number of session\"] = df_ejercicio2.groupby(\n",
    "    [\"Cinema\", \"Screen\", \"Film\"]\n",
    ")[\"Number of Sessions\"].transform(\"sum\")\n",
    "df_ejercicio2_filtrado[\"Admits\"] = df_ejercicio2.groupby([\"Cinema\", \"Screen\", \"Film\"])[\n",
    "    \"Admits\"\n",
    "].transform(\"sum\")\n",
    "\n",
    "df_ejercicio2_filtrado.to_csv(r\"data/ejercicio2/ejercicio2.csv\", index=False)\n"
   ]
  },
  {
   "cell_type": "markdown",
   "metadata": {},
   "source": [
    "### Obtener el total de butacas disponibles para cada pelicula\n"
   ]
  },
  {
   "cell_type": "code",
   "execution_count": 197,
   "metadata": {},
   "outputs": [],
   "source": [
    "df_ejercicio2_filtrado['Cinema'] = pd.to_numeric(df_ejercicio2_filtrado['Cinema'])\n",
    "df_ejercicio2_filtrado['Screen'] = pd.to_numeric(df_ejercicio2_filtrado['Screen'])\n",
    "\n",
    "df_butacas['Theatre'] = pd.to_numeric(df_butacas['Theatre'])\n",
    "df_butacas['Screen'] = pd.to_numeric(df_butacas['Screen'])\n",
    "\n",
    "df_merge = pd.merge(\n",
    "    df_ejercicio2_filtrado,\n",
    "    df_butacas,\n",
    "    left_on=[\"Cinema\", \"Screen\"],\n",
    "    right_on=[\"Theatre\", \"Screen\"],\n",
    "    how=\"left\",\n",
    "    copy=False,\n",
    ")\n",
    "\n",
    "# Calculamos la ocupacion de las butacas multiplicando el numero de butacas por el numero de sesiones\n",
    "df_merge[\"Maxbutacas\"] = df_merge[\"Number of session\"] * df_merge[\"Seats\"]"
   ]
  },
  {
   "cell_type": "markdown",
   "metadata": {},
   "source": [
    "### Obtener el porcentaje de ocupacion de cada pelicula"
   ]
  },
  {
   "cell_type": "code",
   "execution_count": 198,
   "metadata": {},
   "outputs": [],
   "source": [
    "df_porcentaje = pd.DataFrame()\n",
    "\n",
    "# En un dataframe copiamos la columna Film\n",
    "df_porcentaje[\"Film\"] = df_merge[\"Film\"]\n",
    "\n",
    "# Eliminamos duplicados\n",
    "df_porcentaje.drop_duplicates(inplace=True)\n",
    "\n",
    "# Realizamo una sumatoria con las columnas Maxbutacas y admits\n",
    "df_porcentaje[\"Maxbutacas\"] = df_merge.groupby([\"Film\"])[\"Maxbutacas\"].transform(\"sum\")\n",
    "df_porcentaje[\"Admits\"] = df_merge.groupby([\"Film\"])[\"Admits\"].transform(\"sum\")\n",
    "\n",
    "# Divide la columna Admits entre Maxbutacas y redondea a 2 decimales\n",
    "# pd: no se dejo usar f strings :c\n",
    "df_porcentaje[\"Porcentaje\"] = (round(df_porcentaje[\"Admits\"] / df_porcentaje[\"Maxbutacas\"] * 100, 0))\n",
    "df_porcentaje[\"Porcentaje\"] = df_porcentaje[\"Porcentaje\"].apply(lambda x: f\"{x}%\")\n",
    "\n",
    "# exportamos el dataframe a xlsx\n",
    "df_porcentaje.to_excel(r\"data/ejercicio2/porcentaje.xlsx\", index=False, header=True)"
   ]
  }
 ],
 "metadata": {
  "interpreter": {
   "hash": "00b6a5b763db8cf62d2c3eeb2ac0c693912a1a51809bf7e9797bb9c1f2841c8c"
  },
  "kernelspec": {
   "display_name": "Python 3.8.13 ('cine')",
   "language": "python",
   "name": "python3"
  },
  "language_info": {
   "codemirror_mode": {
    "name": "ipython",
    "version": 3
   },
   "file_extension": ".py",
   "mimetype": "text/x-python",
   "name": "python",
   "nbconvert_exporter": "python",
   "pygments_lexer": "ipython3",
   "version": "3.8.13"
  },
  "orig_nbformat": 4
 },
 "nbformat": 4,
 "nbformat_minor": 2
}
